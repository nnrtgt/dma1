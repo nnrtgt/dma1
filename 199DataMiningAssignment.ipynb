{
  "nbformat": 4,
  "nbformat_minor": 0,
  "metadata": {
    "colab": {
      "name": "199DataMiningAssignment.ipynb",
      "provenance": [],
      "collapsed_sections": [],
      "authorship_tag": "ABX9TyOfmHOSd/IQpEcrwkX6Ktqt",
      "include_colab_link": true
    },
    "kernelspec": {
      "name": "python3",
      "display_name": "Python 3"
    },
    "language_info": {
      "name": "python"
    }
  },
  "cells": [
    {
      "cell_type": "markdown",
      "metadata": {
        "id": "view-in-github",
        "colab_type": "text"
      },
      "source": [
        "<a href=\"https://colab.research.google.com/github/nnrtgt/dma1/blob/main/199DataMiningAssignment.ipynb\" target=\"_parent\"><img src=\"https://colab.research.google.com/assets/colab-badge.svg\" alt=\"Open In Colab\"/></a>"
      ]
    },
    {
      "cell_type": "markdown",
      "source": [
        "An organization wanted to mine association rules of frequently bought items from its stores and suggest some recommendations to its customers.\n",
        " \n",
        "As a data scientist, you are required to recognize patterns from the available data and evaluate efficacy of methods to obtain patterns. Your activities should include - performing various activities pertaining to the data such as, preparing the dataset for analysis; investigating the relationships in the data set with visualization; identify frequent patterns; formulate association rules and evaluate quality of rules.\n",
        " \n",
        "Demonstrate KDD process with following activities:\n",
        "*   Problem statement\n",
        "*   Perform exploratory data analysis\n",
        "*   Preprocess the data. Identify relevant & irrelevant attributes for the problem.\n",
        "*   Propose parameters such as support, confidence etc.  \n",
        "*   Discover frequent patterns\n",
        "*   Iterate previous steps by varying parameters\n",
        "*   Formulate association rules\n",
        "*   Compare association rules\n",
        "*   Briefly explain importance of discovered rules\n",
        " \n",
        "Following are some points for you to take note of, while doing the assignment:\n",
        "*   The data in some of the rows in the data set may be noisy, sparse.\n",
        "*   State all your assumptions clearly\n",
        "*   Provide clear explanations to explain your stand"
      ],
      "metadata": {
        "id": "p7ba-g6lV7W-"
      }
    },
    {
      "cell_type": "code",
      "execution_count": 2,
      "metadata": {
        "id": "bfE71JpfVCLk"
      },
      "outputs": [],
      "source": [
        "# Exploratory Data Analysis\n",
        "# Total 7500 Rows are present in the given Excel file\n",
        "# Storing the Dataset into Google Drive\n",
        "\n"
      ]
    }
  ]
}